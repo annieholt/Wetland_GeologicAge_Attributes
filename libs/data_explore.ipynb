{
 "cells": [
  {
   "cell_type": "markdown",
   "id": "822ce1e9",
   "metadata": {},
   "source": [
    "Script to explore the data produced in the first version of the workflow.\n",
    "I will prob delete this, but I wanted to explore my old results to see where I need to make fixes."
   ]
  },
  {
   "cell_type": "code",
   "execution_count": 26,
   "id": "ff860f13",
   "metadata": {},
   "outputs": [],
   "source": [
    "# packages\n",
    "import geopandas\n",
    "import matplotlib.pyplot as plt\n",
    "import seaborn as sns\n",
    "from scipy.stats import skew\n",
    "import sys\n",
    "import os"
   ]
  },
  {
   "cell_type": "code",
   "execution_count": 9,
   "id": "283c96e6",
   "metadata": {},
   "outputs": [
    {
     "name": "stdout",
     "output_type": "stream",
     "text": [
      "15\n"
     ]
    }
   ],
   "source": [
    "# importing NWI metrics produced in old version\n",
    "# right now these are stored on an external, in the future this will change with more efficient workflow\n",
    "\n",
    "usa = geopandas.read_file('E:/SDSU_GEOG/Thesis/Data/US states/cb_2018_us_state_500k/cb_2018_us_state_500k.shp')\n",
    "camels_nwi = geopandas.read_file(\"E:/SDSU_GEOG/Thesis/Data/NWI_outputs/Shapefiles/Metrics_CAMELS/nwi_metrics_camels.shp\")\n",
    "# print(camels_nwi)\n",
    "\n",
    "# there are some NaNs for some reason\n",
    "nan_values = camels_nwi['fresh'].isna().sum()\n",
    "print(nan_values)"
   ]
  },
  {
   "cell_type": "code",
   "execution_count": 40,
   "id": "5387023f",
   "metadata": {},
   "outputs": [
    {
     "name": "stdout",
     "output_type": "stream",
     "text": [
      "          lon_cen     lat_cen    shed_area_       fresh        lake  \\\n",
      "count  417.000000  417.000000    417.000000  414.000000  218.000000   \n",
      "mean   -89.109945   38.729920    638.730249    0.053739    0.005265   \n",
      "std     14.969514    4.993266   1125.980989    0.101121    0.018731   \n",
      "min   -124.174180   27.115580      6.104755    0.000011    0.000001   \n",
      "25%    -92.481520   35.405200    127.874924    0.003913    0.000373   \n",
      "50%    -83.514670   38.526890    285.793028    0.012146    0.001023   \n",
      "75%    -79.026620   41.964240    683.870572    0.052996    0.002952   \n",
      "max    -68.073130   48.874550  14271.028341    0.696283    0.251978   \n",
      "\n",
      "            other       est  \n",
      "count  417.000000  3.000000  \n",
      "mean     0.011499  0.000038  \n",
      "std      0.009085  0.000042  \n",
      "min      0.000556  0.000001  \n",
      "25%      0.006635  0.000015  \n",
      "50%      0.009602  0.000029  \n",
      "75%      0.012531  0.000056  \n",
      "max      0.079137  0.000084  \n",
      "          lon_cen     lat_cen    shed_area_       fresh        lake  \\\n",
      "count  414.000000  414.000000    414.000000  414.000000  218.000000   \n",
      "mean   -89.113139   38.743458    642.701612    0.053739    0.005265   \n",
      "std     14.972804    4.998639   1129.072249    0.101121    0.018731   \n",
      "min   -124.174180   27.115580      6.104755    0.000011    0.000001   \n",
      "25%    -92.431470   35.443385    128.145386    0.003913    0.000373   \n",
      "50%    -83.523615   38.535695    286.892125    0.012146    0.001023   \n",
      "75%    -79.034710   41.956257    689.798945    0.052996    0.002952   \n",
      "max    -68.073130   48.874550  14271.028341    0.696283    0.251978   \n",
      "\n",
      "            other       est  \n",
      "count  414.000000  3.000000  \n",
      "mean     0.011434  0.000038  \n",
      "std      0.008965  0.000042  \n",
      "min      0.000556  0.000001  \n",
      "25%      0.006612  0.000015  \n",
      "50%      0.009605  0.000029  \n",
      "75%      0.012517  0.000056  \n",
      "max      0.079137  0.000084  \n",
      "       hru_id   lon_cen   lat_cen   shed_area_     fresh      lake     other  \\\n",
      "0    02342933 -85.41945  32.02590   290.045115  0.095017  0.001411  0.005634   \n",
      "1    02361000 -85.46480  31.58780  1779.331144  0.106167  0.000355  0.005105   \n",
      "2    02363000 -85.65737  31.86853  1292.639523  0.131536  0.000376  0.005808   \n",
      "3    02369800 -86.66848  31.08605   231.140262  0.147121       NaN  0.003828   \n",
      "4    02371500 -85.98757  31.86585  1257.447749  0.112378  0.000462  0.006195   \n",
      "..        ...       ...       ...          ...       ...       ...       ...   \n",
      "412  03180500 -79.74170  38.60639   346.491412  0.039467  0.000537  0.035103   \n",
      "413  03182500 -79.87662  38.39219  1364.887916  0.018307  0.000136  0.016296   \n",
      "414  03186500 -80.28160  38.32717   332.119946  0.004690       NaN  0.009469   \n",
      "415  03187500 -80.36093  38.26585   207.997753  0.012646       NaN  0.008638   \n",
      "416  03213700 -81.81715  37.42337  2431.417123  0.000720  0.000077  0.010502   \n",
      "\n",
      "     est                                           geometry  \n",
      "0    NaN  POLYGON ((995055.046 1059345.137, 995054.804 1...  \n",
      "1    NaN  POLYGON ((999615.182 1034205.067, 999614.957 1...  \n",
      "2    NaN  POLYGON ((977354.798 1061954.897, 977385.068 1...  \n",
      "3    NaN  POLYGON ((892184.916 940575.077, 892184.985 94...  \n",
      "4    NaN  POLYGON ((963825.187 1060994.922, 963824.843 1...  \n",
      "..   ...                                                ...  \n",
      "412  NaN  MULTIPOLYGON (((1386075.295 1851855.085, 13860...  \n",
      "413  NaN  MULTIPOLYGON (((1386075.295 1851855.085, 13860...  \n",
      "414  NaN  POLYGON ((1363844.756 1820954.960, 1363874.898...  \n",
      "415  NaN  MULTIPOLYGON (((1361595.207 1798665.081, 13616...  \n",
      "416  NaN  POLYGON ((1199204.866 1715445.013, 1199205.233...  \n",
      "\n",
      "[414 rows x 9 columns]\n"
     ]
    }
   ],
   "source": [
    "# dropping duplicates and resetting index\n",
    "camels_nwi_2 = camels_nwi.drop_duplicates(subset='hru_id')\n",
    "camels_nwi_2.reset_index(drop=True, inplace=True)\n",
    "# checking data again\n",
    "print(camels_nwi_2.describe())\n",
    "\n",
    "# why are there only 417 watersheds????\n",
    "# why do some values have NaN??? I don't see any NaN when I load the shapfiles in ArcGIS Pro\n",
    "\n",
    "# dropping the NaN in 'fresh' for now so I can explore the data\n",
    "camels_nwi_3 = camels_nwi_2.dropna(subset=['fresh'])\n",
    "print(camels_nwi_3.describe())\n",
    "print(camels_nwi_3)"
   ]
  },
  {
   "cell_type": "code",
   "execution_count": 22,
   "id": "6c0d06ac",
   "metadata": {},
   "outputs": [
    {
     "data": {
      "image/png": "[encoded data removed]",
      "text/plain": [
       "<Figure size 800x600 with 1 Axes>"
      ]
     },
     "metadata": {},
     "output_type": "display_data"
    }
   ],
   "source": [
    "# explore the values\n",
    "# first looking at the distribution\n",
    "\n",
    "# Plot the distribution using a histogram\n",
    "plt.figure(figsize=(8, 6))\n",
    "plt.hist(camels_nwi_3['fresh'], bins=50, edgecolor='k', alpha=0.7)\n",
    "plt.xlabel('Proportion of Freshwater Wetlands')\n",
    "plt.ylabel('Frequency')\n",
    "plt.title('Distribution of Freshwatwer Wetland Areas')\n",
    "plt.grid(True)\n",
    "plt.show()"
   ]
  },
  {
   "cell_type": "code",
   "execution_count": 12,
   "id": "9dd9de80",
   "metadata": {},
   "outputs": [
    {
     "name": "stderr",
     "output_type": "stream",
     "text": [
      "C:\\Users\\holta\\anaconda3\\envs\\wetland_metrics\\lib\\site-packages\\seaborn\\_oldcore.py:1498: FutureWarning: is_categorical_dtype is deprecated and will be removed in a future version. Use isinstance(dtype, CategoricalDtype) instead\n",
      "  if pd.api.types.is_categorical_dtype(vector):\n"
     ]
    },
    {
     "data": {
      "image/png": "[encoded data removed]",
      "text/plain": [
       "<Figure size 800x600 with 1 Axes>"
      ]
     },
     "metadata": {},
     "output_type": "display_data"
    }
   ],
   "source": [
    "# now box plot\n",
    "plt.figure(figsize=(8, 6))\n",
    "sns.boxplot(x=camels_nwi_3['fresh'], color='green')\n",
    "plt.xlabel('Values')\n",
    "plt.title('Box Plot of Data')\n",
    "plt.show()"
   ]
  },
  {
   "cell_type": "code",
   "execution_count": 20,
   "id": "78ed83c6",
   "metadata": {},
   "outputs": [
    {
     "name": "stdout",
     "output_type": "stream",
     "text": [
      "3.2821358597583425\n"
     ]
    }
   ],
   "source": [
    "# calculate skewness of data\n",
    "skewness = skew(camels_nwi_3['fresh'])\n",
    "print(skewness)\n",
    "\n",
    "# definitley a skewed dataset"
   ]
  },
  {
   "cell_type": "markdown",
   "id": "24e8b81b",
   "metadata": {},
   "source": [
    "Notes for self. I should be able to calcualte NWI wetland metrics for watersheds across the US, not just CAMELS watersheds. In that case, then I can compare the distribution of CAMELS wetland metrics to the general distribution of wetland metrics across the United States to see how representative the CAMELS watersheds are of wetlands."
   ]
  },
  {
   "cell_type": "markdown",
   "id": "0cb2c5af",
   "metadata": {},
   "source": [
    "### SIGNATURE CORRELATIONS ###\n",
    "\n",
    "Initial explorations into the relationship between 'fresh' wetland metric and baseflow signatures from TOSSH toolbox."
   ]
  },
  {
   "cell_type": "code",
   "execution_count": 36,
   "id": "60261304",
   "metadata": {},
   "outputs": [
    {
     "name": "stdout",
     "output_type": "stream",
     "text": [
      "C:\\Users\\holta\\Documents\\Repositories\\wetland_metrics\\libs\n",
      "C:\\Users\\holta\\Documents\\Repositories\n"
     ]
    }
   ],
   "source": [
    "# Get the absolute path of the directory containing this script\n",
    "script_dir = os.path.dirname(os.path.abspath('__file__'))\n",
    "print(script_dir)\n",
    "\n",
    "# Append the parent directory of your_project to the Python path\n",
    "parent_dir = os.path.abspath(os.path.join(script_dir, \"..\"))\n",
    "parent_dir_2 = os.path.abspath(os.path.join(parent_dir, \"..\"))\n",
    "sys.path.append(parent_dir_2)\n",
    "print(parent_dir_2)\n",
    "\n",
    "# Remove the parent directory from the Python path to avoid conflicts\n",
    "sys.path.remove(parent_dir_2)\n",
    "\n",
    "# Now you can import the function from another_script.py\n",
    "# I needed to reinstall some packages, used this so saving for now: \n",
    "# https://www.mathworks.com/help/matlab/matlab_external/install-the-matlab-engine-for-python.html\n",
    "\n",
    "from baseflow_prediction.signatures.calculate_sigs_camels import get_sig_df"
   ]
  },
  {
   "cell_type": "code",
   "execution_count": 38,
   "id": "1fd84bd4",
   "metadata": {},
   "outputs": [
    {
     "name": "stdout",
     "output_type": "stream",
     "text": [
      "index                                  int64\n",
      "gauge_id                              object\n",
      "gauge_lat                            float64\n",
      "gauge_lon                            float64\n",
      "TotalRR                              float64\n",
      "TotalRR_error_str                     object\n",
      "EventRR                              float64\n",
      "EventRR_error_str                     object\n",
      "RR_Seasonality                       float64\n",
      "RR_Seasonality_error_str              object\n",
      "StorageFraction                       object\n",
      "StorageFraction_error_str             object\n",
      "Recession_a_Seasonality              float64\n",
      "Recession_a_Seasonality_error_str     object\n",
      "AverageStorage                       float64\n",
      "AverageStorage_error_str              object\n",
      "RecessionParameters                   object\n",
      "RecessionParameters_error_str         object\n",
      "MRC_num_segments                     float64\n",
      "MRC_num_segments_error_str            object\n",
      "BFI                                  float64\n",
      "BFI_error_str                         object\n",
      "BaseflowRecessionK                   float64\n",
      "BaseflowRecessionK_error_str          object\n",
      "First_Recession_Slope                float64\n",
      "Mid_Recession_Slope                  float64\n",
      "Spearmans_rho                        float64\n",
      "Spearmans_rho_error_str               object\n",
      "EventRR_TotalRR_ratio                float64\n",
      "VariabilityIndex                     float64\n",
      "VariabilityIndex_error_str            object\n",
      "dtype: object\n",
      "     gauge_id  gauge_lat  gauge_lon   TotalRR   EventRR  RR_Seasonality  \\\n",
      "0    01013500   47.23739  -68.58264  0.543437  0.259322        1.761829   \n",
      "1    01022500   44.60797  -67.93524  0.602269  0.353015        0.936856   \n",
      "2    01030500   45.50097  -68.30596  0.555859  0.285397        1.305177   \n",
      "3    01031500   45.17501  -69.31470  0.576289  0.344028        1.118427   \n",
      "4    01047000   44.86920  -69.95510  0.656868  0.374333        1.176128   \n",
      "..        ...        ...        ...       ...       ...             ...   \n",
      "666  14309500   42.80400 -123.61091  0.493734  0.313695        0.763683   \n",
      "667  14316700   43.34984 -122.72894  0.643997  0.451373        1.015220   \n",
      "668  14325000   42.89150 -124.07065  0.646657  0.420741        0.874106   \n",
      "669  14362250   42.15401 -123.07532  0.119358  0.063989        1.069718   \n",
      "670  14400000   42.12344 -124.18731  1.362132  0.902368        1.003167   \n",
      "\n",
      "     StorageFraction_fraction  StorageFraction_active  StorageFraction_total  \\\n",
      "0                    0.863002              460.588786             533.705382   \n",
      "1                         NaN              484.832912                    NaN   \n",
      "2                    0.941320              449.692796             477.725845   \n",
      "3                    0.979765              390.419429             398.482532   \n",
      "4                    1.032734              414.946671             401.794182   \n",
      "..                        ...                     ...                    ...   \n",
      "666                  0.272181              626.085897            2300.256807   \n",
      "667                  0.728044              776.627210            1066.731047   \n",
      "668                  1.218864             2403.448450            1971.875060   \n",
      "669                  1.000000             1940.543929            1940.543929   \n",
      "670                  0.933406              439.113409             470.441906   \n",
      "\n",
      "     RecessionParameters_a  ...  AverageStorage  Recession_a_Seasonality  \\\n",
      "0                 0.050052  ...      233.528801                 2.353868   \n",
      "1                 0.078154  ...      212.691772                 1.882334   \n",
      "2                 0.102017  ...      211.378753                 2.938653   \n",
      "3                 0.148892  ...      187.617445                 2.292955   \n",
      "4                 0.116346  ...      194.236011                 1.838143   \n",
      "..                     ...  ...             ...                      ...   \n",
      "666               0.085782  ...      501.875509                 2.861457   \n",
      "667               0.080909  ...      342.059891                 2.199296   \n",
      "668               0.058701  ...      508.158503                 2.964801   \n",
      "669               0.351955  ...      426.218079                 3.345560   \n",
      "670               0.031352  ...       97.447360                 2.261368   \n",
      "\n",
      "     MRC_num_segments  First_Recession_Slope  Mid_Recession_Slope  \\\n",
      "0                 3.0               0.064615             0.041160   \n",
      "1                 3.0               0.240821             0.132983   \n",
      "2                 3.0               0.119030             0.092648   \n",
      "3                 3.0               0.278094             0.145018   \n",
      "4                 3.0               0.365307             0.128143   \n",
      "..                ...                    ...                  ...   \n",
      "666               3.0               0.366677             0.138506   \n",
      "667               3.0               0.503262             0.190671   \n",
      "668               2.0               0.431971             0.116464   \n",
      "669               3.0               0.326330             0.154577   \n",
      "670               3.0               0.340527             0.177565   \n",
      "\n",
      "     Spearmans_rho  EventRR_TotalRR_ratio  VariabilityIndex       BFI  \\\n",
      "0        -0.905582               0.477188          0.360789  0.675652   \n",
      "1        -0.902441               0.586141          0.402641  0.507212   \n",
      "2        -0.917798               0.513434          0.471413  0.574402   \n",
      "3        -0.885489               0.596972          0.467360  0.422818   \n",
      "4        -0.852543               0.569876          0.403841  0.443186   \n",
      "..             ...                    ...               ...       ...   \n",
      "666      -0.956115               0.635353          0.688729  0.400969   \n",
      "667      -0.950414               0.700893          0.577614  0.445167   \n",
      "668      -0.954228               0.650639          0.675354  0.405993   \n",
      "669      -0.893436               0.536109          0.732789  0.533723   \n",
      "670      -0.962619               0.662467          0.649483  0.414142   \n",
      "\n",
      "     BaseflowRecessionK  \n",
      "0              0.053781  \n",
      "1              0.098494  \n",
      "2              0.090976  \n",
      "3              0.122308  \n",
      "4              0.112593  \n",
      "..                  ...  \n",
      "666            0.102688  \n",
      "667            0.089023  \n",
      "668            0.098243  \n",
      "669            0.137222  \n",
      "670            0.078733  \n",
      "\n",
      "[671 rows x 22 columns]\n"
     ]
    }
   ],
   "source": [
    "# path of previously created dataset\n",
    "pi_path = 'C:/Users/holta/Documents/Repositories/baseflow_prediction/signatures/camels_gw_sigs_pi.obj'\n",
    "# path of Toolbox\n",
    "tossh_path = 'C:/Users/holta/Documents/Repositories/TOSSH'\n",
    "\n",
    "# get data for hydrologic signatures\n",
    "sigs = get_sig_df(tossh_path, pi_path)\n",
    "print(sigs)"
   ]
  },
  {
   "cell_type": "code",
   "execution_count": 43,
   "id": "d0de7882",
   "metadata": {},
   "outputs": [
    {
     "name": "stdout",
     "output_type": "stream",
     "text": [
      "       hru_id   lon_cen   lat_cen   shed_area_     fresh      lake     other  \\\n",
      "0    02342933 -85.41945  32.02590   290.045115  0.095017  0.001411  0.005634   \n",
      "1    02361000 -85.46480  31.58780  1779.331144  0.106167  0.000355  0.005105   \n",
      "2    02363000 -85.65737  31.86853  1292.639523  0.131536  0.000376  0.005808   \n",
      "3    02369800 -86.66848  31.08605   231.140262  0.147121       NaN  0.003828   \n",
      "4    02371500 -85.98757  31.86585  1257.447749  0.112378  0.000462  0.006195   \n",
      "..        ...       ...       ...          ...       ...       ...       ...   \n",
      "409  03180500 -79.74170  38.60639   346.491412  0.039467  0.000537  0.035103   \n",
      "410  03182500 -79.87662  38.39219  1364.887916  0.018307  0.000136  0.016296   \n",
      "411  03186500 -80.28160  38.32717   332.119946  0.004690       NaN  0.009469   \n",
      "412  03187500 -80.36093  38.26585   207.997753  0.012646       NaN  0.008638   \n",
      "413  03213700 -81.81715  37.42337  2431.417123  0.000720  0.000077  0.010502   \n",
      "\n",
      "     est                                           geometry  gauge_id  ...  \\\n",
      "0    NaN  POLYGON ((995055.046 1059345.137, 995054.804 1...  02342933  ...   \n",
      "1    NaN  POLYGON ((999615.182 1034205.067, 999614.957 1...  02361000  ...   \n",
      "2    NaN  POLYGON ((977354.798 1061954.897, 977385.068 1...  02363000  ...   \n",
      "3    NaN  POLYGON ((892184.916 940575.077, 892184.985 94...  02369800  ...   \n",
      "4    NaN  POLYGON ((963825.187 1060994.922, 963824.843 1...  02371500  ...   \n",
      "..   ...                                                ...       ...  ...   \n",
      "409  NaN  MULTIPOLYGON (((1386075.295 1851855.085, 13860...  03180500  ...   \n",
      "410  NaN  MULTIPOLYGON (((1386075.295 1851855.085, 13860...  03182500  ...   \n",
      "411  NaN  POLYGON ((1363844.756 1820954.960, 1363874.898...  03186500  ...   \n",
      "412  NaN  MULTIPOLYGON (((1361595.207 1798665.081, 13616...  03187500  ...   \n",
      "413  NaN  POLYGON ((1199204.866 1715445.013, 1199205.233...  03213700  ...   \n",
      "\n",
      "     AverageStorage  Recession_a_Seasonality  MRC_num_segments  \\\n",
      "0        302.023272                 3.507834               3.0   \n",
      "1        259.495914                 1.705668               2.0   \n",
      "2        285.952868                 2.560572               3.0   \n",
      "3        359.587468                 0.952059               3.0   \n",
      "4        258.688836                 2.264641               3.0   \n",
      "..              ...                      ...               ...   \n",
      "409      145.666880                 2.363906               3.0   \n",
      "410      135.912708                 2.066382               3.0   \n",
      "411      122.292273                 2.548751               3.0   \n",
      "412      122.822884                 2.576666               3.0   \n",
      "413      207.214308                 1.910255               3.0   \n",
      "\n",
      "     First_Recession_Slope  Mid_Recession_Slope  Spearmans_rho  \\\n",
      "0                 0.871774             0.258338      -0.872582   \n",
      "1                 0.543871             0.139404      -0.832841   \n",
      "2                 0.645835             0.228061      -0.896089   \n",
      "3                 1.151768             0.311090      -0.858895   \n",
      "4                 0.804661             0.239899      -0.894809   \n",
      "..                     ...                  ...            ...   \n",
      "409               0.579560             0.180062      -0.939304   \n",
      "410               0.467355             0.200108      -0.942450   \n",
      "411               0.911081             0.218600      -0.945896   \n",
      "412               0.780081             0.217537      -0.938378   \n",
      "413               1.230581             0.304256      -0.889001   \n",
      "\n",
      "     EventRR_TotalRR_ratio  VariabilityIndex       BFI  BaseflowRecessionK  \n",
      "0                 0.595553          0.608115  0.273718            0.217747  \n",
      "1                 0.504223          0.358952  0.516264            0.125918  \n",
      "2                 0.448539          0.535007  0.430980            0.152422  \n",
      "3                 0.534736          0.287851  0.474632            0.131911  \n",
      "4                 0.451083          0.479914  0.466669            0.127829  \n",
      "..                     ...               ...       ...                 ...  \n",
      "409               0.734394          0.515430  0.394310            0.159680  \n",
      "410               0.725713          0.514955  0.361036            0.159491  \n",
      "411               0.749480          0.533893  0.348703            0.170130  \n",
      "412               0.732145          0.511928  0.364821            0.187419  \n",
      "413               0.624742          0.404730  0.508841            0.103212  \n",
      "\n",
      "[414 rows x 31 columns]\n"
     ]
    }
   ],
   "source": [
    "# combine datasets\n",
    "\n",
    "nwi_sigs = camels_nwi_3.merge(sigs, left_on='hru_id', right_on='gauge_id', how='inner')\n",
    "nwi_sigs.sort_values(by='hru_id', ascending=False)\n",
    "print(nwi_sigs)"
   ]
  },
  {
   "cell_type": "code",
   "execution_count": 51,
   "id": "f71954fc",
   "metadata": {},
   "outputs": [
    {
     "name": "stdout",
     "output_type": "stream",
     "text": [
      "Correlation coefficient: 0.06820907684119369\n"
     ]
    },
    {
     "name": "stderr",
     "output_type": "stream",
     "text": [
      "C:\\Users\\holta\\anaconda3\\envs\\wetland_metrics\\lib\\site-packages\\seaborn\\_oldcore.py:1498: FutureWarning: is_categorical_dtype is deprecated and will be removed in a future version. Use isinstance(dtype, CategoricalDtype) instead\n",
      "  if pd.api.types.is_categorical_dtype(vector):\n",
      "C:\\Users\\holta\\anaconda3\\envs\\wetland_metrics\\lib\\site-packages\\seaborn\\_oldcore.py:1498: FutureWarning: is_categorical_dtype is deprecated and will be removed in a future version. Use isinstance(dtype, CategoricalDtype) instead\n",
      "  if pd.api.types.is_categorical_dtype(vector):\n"
     ]
    },
    {
     "data": {
      "image/png": "[encoded data removed]",
      "text/plain": [
       "<Figure size 640x480 with 1 Axes>"
      ]
     },
     "metadata": {},
     "output_type": "display_data"
    }
   ],
   "source": [
    "# correlation plots\n",
    "\n",
    "correlation_coefficient = nwi_sigs['fresh'].corr(nwi_sigs['Recession_a_Seasonality'])\n",
    "print(\"Correlation coefficient:\", correlation_coefficient)\n",
    "\n",
    "# Create a scatterplot with a regression line\n",
    "sns.scatterplot(data=nwi_sigs, x='fresh', y='Recession_a_Seasonality')\n",
    "\n",
    "# Set plot title and labels\n",
    "plt.title(f'Correlation Plot (Correlation Coefficient: {correlation_coefficient:.2f})')\n",
    "plt.xlabel('Fresh')\n",
    "plt.ylabel('Recession_a_Seasonality')\n",
    "\n",
    "# Show the plot\n",
    "plt.show()"
   ]
  },
  {
   "cell_type": "code",
   "execution_count": null,
   "id": "84f9ad3d",
   "metadata": {},
   "outputs": [],
   "source": []
  }
 ],
 "metadata": {
  "kernelspec": {
   "display_name": "Python 3 (ipykernel)",
   "language": "python",
   "name": "python3"
  },
  "language_info": {
   "codemirror_mode": {
    "name": "ipython",
    "version": 3
   },
   "file_extension": ".py",
   "mimetype": "text/x-python",
   "name": "python",
   "nbconvert_exporter": "python",
   "pygments_lexer": "ipython3",
   "version": "3.10.12"
  }
 },
 "nbformat": 4,
 "nbformat_minor": 5
}
